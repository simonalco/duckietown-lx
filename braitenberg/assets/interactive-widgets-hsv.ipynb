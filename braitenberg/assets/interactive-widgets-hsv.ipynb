{
 "cells": [
  {
   "cell_type": "code",
   "execution_count": null,
   "metadata": {},
   "outputs": [],
   "source": [
    "import ipywidgets as widgets\n",
    "import duckietown_code_utils as dcu\n",
    "import cv2\n",
    "import numpy as np\n",
    "from matplotlib import pyplot as plt\n"
   ]
  },
  {
   "cell_type": "code",
   "execution_count": null,
   "metadata": {},
   "outputs": [],
   "source": [
    "titles = ['H', 'S', 'V']\n",
    "fn = './REPER3D_duckies_images/IMG_1609.jpg'\n",
    "\n",
    "frame0 = dcu.rgb_from_jpg_fn(fn)\n",
    "sliders = {}\n",
    "from functools import partial\n",
    "\n",
    "\n",
    "def update_caption():\n",
    "    values = get_values()\n",
    "    caption.value  = f'The values are {values}'\n",
    "\n",
    "def on_slider_change(index: int, change):\n",
    "    show_images()\n",
    "    update_caption()\n",
    "\n",
    "for i, title in enumerate(titles):\n",
    "    slider = widgets.IntRangeSlider(\n",
    "    value=[0, 255],\n",
    "    min=0,\n",
    "    max=255,\n",
    "    step=1,\n",
    "    description=title,\n",
    "    disabled=False,\n",
    "    continuous_update=True,\n",
    "    orientation='horizontal',\n",
    "    readout=True,\n",
    "    readout_format='d')\n",
    "    sliders[title] = slider\n",
    "    slider.observe(partial(on_slider_change, i))\n",
    "\n",
    "def get_values():\n",
    "    return {k: _.value for k, _ in sliders.items()}\n",
    "\n",
    "\n",
    "box = widgets.Box(list(sliders.values()))\n",
    "caption = widgets.Label(value=f'The initial values are {get_values()}')\n",
    "\n",
    "display(box, caption)\n",
    "f, ax = plt.subplots(1, 2, figsize=(16,6)) \n",
    "\n",
    "def show_images():\n",
    "    print('computing')\n",
    "    frame = frame0\n",
    "    hsv = cv2.cvtColor(frame0, cv2.COLOR_BGR2HSV)\n",
    "    values = get_values()\n",
    "    lower_hsv = np.array([values['H'][0],values['S'][0],values['V'][0],])\n",
    "    higher_hsv = np.array([values['H'][1],values['S'][1],values['V'][1],])\n",
    "    print('computing', higher_hsv)\n",
    "    # Apply the cv2.inrange method to create a mask\n",
    "    mask = cv2.inRange(hsv, lower_hsv, higher_hsv)\n",
    "    # Apply the mask on the image to extract the original color\n",
    "    frame = cv2.bitwise_and(frame, frame, mask=mask)\n",
    "\n",
    "    ax[0].imshow(frame0)\n",
    "    ax[1].imshow(frame)\n",
    " \n",
    "    plt.show() \n",
    "\n",
    "show_images()"
   ]
  }
 ],
 "metadata": {
  "kernelspec": {
   "display_name": "Python 3.8.10 64-bit",
   "language": "python",
   "name": "python3"
  },
  "language_info": {
   "codemirror_mode": {
    "name": "ipython",
    "version": 3
   },
   "file_extension": ".py",
   "mimetype": "text/x-python",
   "name": "python",
   "nbconvert_exporter": "python",
   "pygments_lexer": "ipython3",
   "version": "3.8.10"
  },
  "vscode": {
   "interpreter": {
    "hash": "916dbcbb3f70747c44a77c7bcd40155683ae19c65e1c03b4aa3499c5328201f1"
   }
  }
 },
 "nbformat": 4,
 "nbformat_minor": 0
}
